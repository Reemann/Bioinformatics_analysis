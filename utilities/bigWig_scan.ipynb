{
 "cells": [
  {
   "cell_type": "code",
   "execution_count": 2,
   "metadata": {},
   "outputs": [],
   "source": [
    "import os\n",
    "import pandas as pd\n",
    "import numpy as np\n",
    "import math\n",
    "import seaborn as sns\n",
    "import matplotlib as mpl\n",
    "import matplotlib.pyplot as plt\n",
    "from matplotlib.backends.backend_pdf import PdfPages\n",
    "from pprint import pprint\n",
    "%matplotlib inline"
   ]
  },
  {
   "cell_type": "markdown",
   "metadata": {},
   "source": [
    "# profile"
   ]
  },
  {
   "cell_type": "markdown",
   "metadata": {},
   "source": []
  },
  {
   "cell_type": "markdown",
   "metadata": {},
   "source": [
    "# mean"
   ]
  },
  {
   "cell_type": "code",
   "execution_count": null,
   "metadata": {},
   "outputs": [],
   "source": [
    "bw_scan = False\n",
    "\n",
    "import subprocess\n",
    "\n",
    "name = 'atac_OCR_specific'\n",
    "capture_regions_file = 'atac_validation/atac_wt_OCR_specific_peaks_Pou5f3.narrowPeak'\n",
    "bigwig_files = [\n",
    "    'atat_signal/atac_wt_oblong.bw',\n",
    "    'atat_signal/atac_ko_pou5f3_oblong.bw',\n",
    "    #'atac_MO_control_GR2018.bw', 'atac_MO_nanog_GR2018.bw',\n",
    "    #'atac_MO_nanog_rescue_GR2018.bw'\n",
    "]\n",
    "labels = [\n",
    "    'wt',\n",
    "    'ko',\n",
    "    #'mo_control', 'mo', 'mo_resuce',\n",
    "]\n",
    "\n",
    "cmd = f'cut -f 1-4 {capture_regions_file} > atac_validation/captures_regions.bed'\n",
    "subprocess.call(cmd, shell=True)\n",
    "\n",
    "for label, bigwig_file in zip(labels, bigwig_files):\n",
    "    bw_scan_cmd = f'bigWigAverageOverBed {bigwig_file} atac_validation/captures_regions.bed atac_validation/{name}_{label}_signal.tsv'\n",
    "    if bw_scan:\n",
    "        print(subprocess.check_output(bw_scan_cmd.split()).decode(), end='')\n",
    "\n",
    "def get_bigwig_mean(bigwig_file):\n",
    "    import subprocess\n",
    "    fold = subprocess.check_output(f'bigWigInfo {bigwig_file} | grep mean',\n",
    "                                   shell=True).decode()\n",
    "    fold = float(fold.split()[1])\n",
    "    return fold\n",
    "\n",
    "capture_regions = pd.read_csv('atac_validation/captures_regions.bed', sep='\\t', header=None)\n",
    "capture_signal_atac_OCR_specific = pd.DataFrame(index=capture_regions[3].to_list())\n",
    "for label, bigwig_file in zip(labels, bigwig_files):\n",
    "    avg = get_bigwig_mean(bigwig_file)\n",
    "    capture_signal_atac_OCR_specific[label] = pd.read_csv(\n",
    "        f'atac_validation/{name}_{label}_signal.tsv',\n",
    "        sep='\\t',\n",
    "        header=None,\n",
    "        index_col=0,\n",
    "        names=['size', 'covered', 'sum', 'mean0', 'mean'])['mean0'] / avg\n",
    "\n",
    "capture_signal_atac_OCR_specific"
   ]
  }
 ],
 "metadata": {
  "kernelspec": {
   "display_name": "Python 3.7.3 64-bit",
   "language": "python",
   "name": "python3"
  },
  "language_info": {
   "codemirror_mode": {
    "name": "ipython",
    "version": 3
   },
   "file_extension": ".py",
   "mimetype": "text/x-python",
   "name": "python",
   "nbconvert_exporter": "python",
   "pygments_lexer": "ipython3",
   "version": "3.7.3"
  },
  "orig_nbformat": 4,
  "vscode": {
   "interpreter": {
    "hash": "31f2aee4e71d21fbe5cf8b01ff0e069b9275f58929596ceb00d14d90e3e16cd6"
   }
  }
 },
 "nbformat": 4,
 "nbformat_minor": 2
}
